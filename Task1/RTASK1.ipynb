{
 "cells": [
  {
   "cell_type": "markdown",
   "id": "e01cba39",
   "metadata": {},
   "source": [
    "# Part 1 "
   ]
  },
  {
   "cell_type": "code",
   "execution_count": 1,
   "id": "430d3d7e",
   "metadata": {},
   "outputs": [],
   "source": [
    "#install.packages(\"RODBC\")\n",
    "#install.packages(\"sqldf\")\n"
   ]
  },
  {
   "cell_type": "code",
   "execution_count": 2,
   "id": "8bdb3c02",
   "metadata": {},
   "outputs": [
    {
     "name": "stderr",
     "output_type": "stream",
     "text": [
      "Loading required package: gsubfn\n",
      "\n",
      "Loading required package: proto\n",
      "\n",
      "Loading required package: RSQLite\n",
      "\n"
     ]
    }
   ],
   "source": [
    "#library(RODBC)\n",
    "library(sqldf) # Бибилиотека для использования SQL запросов\n",
    "\n",
    "cars<-read.table(\"~/Documents/VMK/MaSP/Data/CARS.csv\", header=TRUE, sep=\",\") "
   ]
  },
  {
   "cell_type": "code",
   "execution_count": 3,
   "id": "12a248d7",
   "metadata": {},
   "outputs": [],
   "source": [
    "empty_counter <- function(size = 0, names = NA) {\n",
    "    if(size == 0)\n",
    "        counter <- vector()\n",
    "    else{\n",
    "        counter <- vector(\"integer\", size)\n",
    "    }\n",
    "    if(!is.na(names)[1]){ #is.na returns multiple boolean values, that's why '[1]' is used\n",
    "        names(counter) <- names\n",
    "    }\n",
    "    return(counter)\n",
    "}"
   ]
  },
  {
   "cell_type": "code",
   "execution_count": 4,
   "id": "11c705f2",
   "metadata": {},
   "outputs": [],
   "source": [
    "MFL <- function(table){\n",
    "    fl <- sqldf(paste(\"Select Make, Origin from \",\n",
    "                      table,\n",
    "                      \" group by Make\")) # выделение из таблицы интересующие нас столбцы\n",
    "    line_1 <- vector() #пустой вектор, который будет хранить символьные значения - элементы первой строки\n",
    "    for(i in 1:length(fl[[1]])){\n",
    "        elem <- paste(fl$Make[i],'[', fl[[2]][i], ']') # индексация разная (просто на заметку)\n",
    "        line_1 <- append(line_1, elem)\n",
    "    }\n",
    "    return(line_1)\n",
    "}\n"
   ]
  },
  {
   "cell_type": "code",
   "execution_count": 5,
   "id": "e0d447a8",
   "metadata": {},
   "outputs": [],
   "source": [
    "# Make cell for second line function (MCFSL) function\n",
    "MCFSL <- function(vec) {\n",
    "    cell <- vector()\n",
    "    for(i in 1:length(names(vec))){\n",
    "        elem <- paste(c(names(vec)[i], vec[[i]]), collapse=\"=\")\n",
    "        cell <- append(cell, elem)\n",
    "    }\n",
    "    cell <- paste(cell, collapse=\" \")\n",
    "    return(cell)\n",
    "}"
   ]
  },
  {
   "cell_type": "code",
   "execution_count": 6,
   "id": "4165055d",
   "metadata": {},
   "outputs": [],
   "source": [
    "MSL <- function(table) {\n",
    "    line_2 <- vector() #пустой вектор, который будет хранить символьные значения - элементы первой строки\n",
    "    \n",
    "    names <- levels(factor(table$Type))\n",
    "    counter <- empty_counter(6, names) # многомерный счетчик для каждой марки машины\n",
    "    inc <- empty_counter(6, names) # многомерный инкремент для каждой марки машины\n",
    "\n",
    "    initial_brand <- table[1,]$Make\n",
    "    for(i in 1:nrow(table)) { # выбираю конкретную марку машины\n",
    "        car <- table[i,] #\n",
    "        if(car$Make != initial_brand){\n",
    "            line_2 <- append(line_2, MCFSL(counter))\n",
    "            counter <- empty_counter(6, names)\n",
    "            initial_brand <- car$Make\n",
    "        }\n",
    "        inc[car$Type] = 1 \n",
    "        counter <- counter + inc\n",
    "        inc[car$Type] = 0\n",
    "    }\n",
    "    line_2 <- append(line_2, MCFSL(counter)) # сохраняю данные последнего счетчика, а то без этой строчки проскакиваю\n",
    "    return(line_2)\n",
    "}"
   ]
  },
  {
   "cell_type": "code",
   "execution_count": 7,
   "id": "ae3193a8",
   "metadata": {},
   "outputs": [],
   "source": [
    "invoice_converter <- function(invoice, mode='toNumericRubles'){\n",
    "    if(mode == 'toChar'){\n",
    "        return(paste(as.character(invoice), ' RUB'))\n",
    "    }\n",
    "    else{\n",
    "        return(60 * as.numeric(sub(',', '.', sub('.', '', invoice))))\n",
    "    }\n",
    "}"
   ]
  },
  {
   "cell_type": "code",
   "execution_count": 8,
   "id": "c83f95d9",
   "metadata": {},
   "outputs": [],
   "source": [
    "MTL <- function(table) {\n",
    "    line_3 <- vector() #пустой вектор, который будет хранить символьные значения - элементы первой строки\n",
    "    \n",
    "    names <- levels(factor(table$Type)) # возможные типы кузовов\n",
    "    type_counter <- empty_counter(6, names) # многомерный счетчик для каждой марки машины\n",
    "    val_container <- empty_counter() # контейнер для хранения счетов для одинаковых типов кузова одной модели\n",
    "    max_val <- empty_counter(6, names) # конейнер максимальных счетов для конкретной модели\n",
    "    inc <- empty_counter(6, names) # многомерный инкремент для каждой марки машины\n",
    "\n",
    "    initial_brand <- table[1,]$Make\n",
    "    initial_type <- table[1,]$Type\n",
    "    initial_max_val <- table[1,]$Invoice\n",
    "    \n",
    "    for(i in 1:nrow(table)) { # выбираю конкретную марку машины\n",
    "        car <- table[i,] #\n",
    "        if(car$Type != initial_type) {\n",
    "            max_val[initial_type] <- invoice_converter(max(val_container), mode='toChar')\n",
    "            initial_type <- car$Type\n",
    "        }\n",
    "        \n",
    "        car <- table[i,] #\n",
    "        if(car$Make != initial_brand){\n",
    "            line_3 <- append(line_3, MCFSL(max_val))\n",
    "            max_val <- empty_counter(6, names)\n",
    "            val_container <- empty_counter()\n",
    "            \n",
    "            initial_brand <- car$Make\n",
    "        }\n",
    "        invoice_rubles <- invoice_converter(car$Invoice)\n",
    "        val_container <- append(val_container, invoice_rubles) # хранит счета для конкретных типов кузовов\n",
    "                                                               # конкретных марком\n",
    "    }\n",
    "    line_3 <- append(line_3, MCFSL(max_val)) # сохраняю данные последнего счетчика, а то без этой строчки проскакиваю\n",
    "    return(line_3)\n",
    "}"
   ]
  },
  {
   "cell_type": "code",
   "execution_count": 9,
   "id": "f1e4302b",
   "metadata": {},
   "outputs": [],
   "source": [
    "construct <- function(table){return(data.frame(\"Manufacturer_Origin\" = MFL(deparse(substitute(table))), \n",
    "                   \"Types\" = MSL(table), \n",
    "                   \"Maximal_invoice\" = MTL(table)))}"
   ]
  },
  {
   "cell_type": "code",
   "execution_count": 10,
   "id": "678feedd",
   "metadata": {},
   "outputs": [],
   "source": [
    "data <- construct(cars)\n",
    "write.table(data, file = \"MY_DATA.txt\", sep = \"\\t\")"
   ]
  },
  {
   "cell_type": "markdown",
   "id": "6fc96f95",
   "metadata": {},
   "source": [
    "# Part 2"
   ]
  },
  {
   "cell_type": "code",
   "execution_count": 11,
   "id": "792c5b80",
   "metadata": {},
   "outputs": [],
   "source": [
    "MC <- function(data, colname){\n",
    "    brands_data = data[\"Manufacturer_Origin\"]\n",
    "    invoice_data = data[\"Maximal_invoice\"]\n",
    "    column = empty_counter(6)\n",
    "    for(i in 1:nrow(data)){\n",
    "        if(grepl(colname, brands_data[i,1])){\n",
    "            inv <- gsub(' RUB *|[a-z]|[A-Z]|=', \"\", invoice_data[i,1])\n",
    "            current_inv <- c(as.numeric(unlist(strsplit(inv, split=\" \"))))\n",
    "            column <- column + current_inv\n",
    "        }\n",
    "    }\n",
    "    for(i in 1:length(column)){\n",
    "        if(column[i] == 0){\n",
    "            column[i] = '-'\n",
    "        }\n",
    "        else{\n",
    "            \n",
    "            column[i] <- invoice_converter(column[i], mode='toChar')\n",
    "        }\n",
    "    }\n",
    "    return(column)\n",
    "}"
   ]
  },
  {
   "cell_type": "code",
   "execution_count": 12,
   "id": "f450ffe5",
   "metadata": {},
   "outputs": [],
   "source": [
    "txt.data <- read.delim(\"MY_DATA.txt\")\n",
    "types<- gsub(\"=[[:digit:]]+|=[[:digit:]]+.[[:digit:]]+ |RUB \",\n",
    "          \"\",\n",
    "          txt.data[\"Maximal_invoice\"][1,]) # Ignoring all irrelavant words to make row names\n",
    "rownames<-unlist(strsplit(types, split=\" \"))\n",
    "\n",
    "df <- cbind(data.frame(Types=rownames), \n",
    "      Asia=MC(txt.data, 'Asia'), \n",
    "      USA=MC(txt.data, 'USA'),\n",
    "      Europe=MC(txt.data, 'Europe'))\n",
    "\n",
    "write.csv(df , file='MY_TABLE.csv')"
   ]
  },
  {
   "cell_type": "markdown",
   "id": "b6efde79",
   "metadata": {},
   "source": [
    "# Part 3"
   ]
  },
  {
   "cell_type": "code",
   "execution_count": 13,
   "id": "fae4ef5a",
   "metadata": {},
   "outputs": [],
   "source": [
    "print.MTT<-function(x){\n",
    "    prop_names <- 'Manufacturer_Origin Types Maximal_invoice'\n",
    "    if(is.null(names(x))){\n",
    "        return(cat(\"ERROR: Object should have names. Try again\"))\n",
    "    }\n",
    "    else{\n",
    "        cat(\"\\t\\t\",\"--- OVERWRITED PRINT ---\",\"\\n\\n\")\n",
    "        nr<- length(x)\n",
    "        for(i in 1:length(x[[1]])){\n",
    "            if(nr==3){\n",
    "                cat(x$Manufacturer_Origin[i], x[[2]][i], x$Maximal_invoice[i], sep=' ; ')\n",
    "            }\n",
    "            else if(nr==4){\n",
    "                cat(x[[1]][i], x[[2]][i], x[[3]][i], x[[4]][i], sep=' ; ')\n",
    "            }\n",
    "            cat(\"\\n\\n\")\n",
    "        }\n",
    "        #NextMethod(\"print\")\n",
    "    }\n",
    "}"
   ]
  },
  {
   "cell_type": "raw",
   "id": "fa6eb192",
   "metadata": {},
   "source": [
    "class(data) <- \"MTT\"\n",
    "data"
   ]
  },
  {
   "cell_type": "code",
   "execution_count": 14,
   "id": "adc1dc14",
   "metadata": {},
   "outputs": [],
   "source": [
    "do_csv <- function(txt.data, colnames){\n",
    "    return(cbind(data.frame(Types=rownames), \n",
    "      Asia=MC(txt.data, colnames[1]), \n",
    "      USA=MC(txt.data, colnames[2]),\n",
    "      Europe=MC(txt.data, colnames[3])))\n",
    "}"
   ]
  },
  {
   "cell_type": "code",
   "execution_count": 15,
   "id": "6bdae97e",
   "metadata": {},
   "outputs": [
    {
     "data": {
      "text/plain": [
       "\t\t --- OVERWRITED PRINT --- \n",
       "\n",
       "Hybrid ; 2242.62  RUB ; - ; -\n",
       "\n",
       "Sedan ; 24998.22  RUB ; 22506.3  RUB ; 29411.94  RUB\n",
       "\n",
       "Sports ; 21372.48  RUB ; 17684.64  RUB ; 30937.98  RUB\n",
       "\n",
       "SUV ; 20103.36  RUB ; 20362.86  RUB ; 14413.14  RUB\n",
       "\n",
       "Truck ; 8133.66  RUB ; 16033.08  RUB ; -\n",
       "\n",
       "Wagon ; 18198.3  RUB ; 12185.04  RUB ; 22371.6  RUB\n"
      ]
     },
     "metadata": {},
     "output_type": "display_data"
    }
   ],
   "source": [
    "my.frame <- do_csv(txt.data, c('Asia','USA','Europe'))\n",
    "class(my.frame) <- 'MTT'\n",
    "\n",
    "my.frame"
   ]
  },
  {
   "cell_type": "code",
   "execution_count": 16,
   "id": "cad35870",
   "metadata": {},
   "outputs": [],
   "source": [
    "write.csv <- function(x, ...) UseMethod(\"write.csv\")\n",
    "\n",
    "write.csv.MTT <- function(x, ...){\n",
    "    cat(\"\\t\\t\",\"--- MTT OBJECT=\", paste(\"'\",deparse(substitute(x)),\"'\"), \" SAVED ---\",\"\\n\\n\")\n",
    "    class(x)<-\"data.frame\"\n",
    "    #print(file)\n",
    "    NextMethod()\n",
    "    #return(cat(\"LoL\"))\n",
    "}\n",
    "\n",
    "write.csv.default <- function(x, ...) {  \n",
    "    cat(\"\\t\\t\",\"--- OVERWRITED WRITE.CSV ---\",\"\\n\\n\")\n",
    "    utils::write.csv(x, ...)\n",
    "}"
   ]
  },
  {
   "cell_type": "code",
   "execution_count": 17,
   "id": "a11a6adc",
   "metadata": {},
   "outputs": [
    {
     "name": "stdout",
     "output_type": "stream",
     "text": [
      "\t\t --- MTT OBJECT= ' my.frame '  SAVED --- \n",
      "\n",
      "\t\t --- OVERWRITED WRITE.CSV --- \n",
      "\n"
     ]
    }
   ],
   "source": [
    "write.csv(my.frame, file='overwrited_write.csv')"
   ]
  }
 ],
 "metadata": {
  "kernelspec": {
   "display_name": "R",
   "language": "R",
   "name": "ir"
  },
  "language_info": {
   "codemirror_mode": "r",
   "file_extension": ".r",
   "mimetype": "text/x-r-source",
   "name": "R",
   "pygments_lexer": "r",
   "version": "4.3.1"
  }
 },
 "nbformat": 4,
 "nbformat_minor": 5
}
